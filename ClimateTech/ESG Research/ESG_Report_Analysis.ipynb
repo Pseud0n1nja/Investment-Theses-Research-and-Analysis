{
  "nbformat": 4,
  "nbformat_minor": 0,
  "metadata": {
    "colab": {
      "provenance": []
    },
    "kernelspec": {
      "name": "python3",
      "display_name": "Python 3"
    },
    "language_info": {
      "name": "python"
    }
  },
  "cells": [
    {
      "cell_type": "markdown",
      "source": [
        "# Tutorial 1: ESG Report Analysis\n",
        "\n",
        "**By Tobias Schimanski and based on my paper: \"Bridiging the Gap in ESG Measurement: Using NLP to Quantify Environmental, Social, and Governance Communication\"**\n",
        "\n",
        "This notebook serves as a basis for applying AI Natural Language Processing tools to corporate sustainability reports. It is particularily tailored for newcomers to the field with limited or no prior experience. In this tutorial, you can only press play and will be fine.\n",
        "\n",
        "If you are already advanced, you might just [want to read the paper](https://papers.ssrn.com/sol3/papers.cfm?abstract_id=4622514) and or go directly to the [models on HuggingFace](https://huggingface.co/ESGBERT)."
      ],
      "metadata": {
        "id": "S1tvR6wFukX-"
      }
    },
    {
      "cell_type": "markdown",
      "source": [
        "**In this tutorial, we learn to analyse a annual report towards ESG risks and opportunities.**"
      ],
      "metadata": {
        "id": "2A3wwLUEEPmw"
      }
    },
    {
      "cell_type": "markdown",
      "source": [
        "## Import libraries\n",
        "\n",
        "We start by importing some standard libraries as well as the \"transformers\" one. This will help us to use the tools."
      ],
      "metadata": {
        "id": "o0GgzEp7vIav"
      }
    },
    {
      "cell_type": "code",
      "source": [
        "!pip install transformers\n",
        "!pip install tika"
      ],
      "metadata": {
        "id": "JlIfberpvEsB"
      },
      "execution_count": null,
      "outputs": []
    },
    {
      "cell_type": "code",
      "execution_count": null,
      "metadata": {
        "id": "yT3ItS7ludlE"
      },
      "outputs": [],
      "source": [
        "# standard libraries\n",
        "import pandas as pd\n",
        "import numpy as np\n",
        "import matplotlib.pyplot as plt\n",
        "\n",
        "from transformers import AutoModelForSequenceClassification, AutoTokenizer, pipeline # for using the models\n",
        "\n",
        "import spacy # for sentence extraction\n",
        "from tika import parser # for the report extraction"
      ]
    },
    {
      "cell_type": "markdown",
      "source": [
        "## Step 1: Get a feeling for the models\n",
        "\n",
        "We are going to use models of the [ESG BERT project](https://huggingface.co/ESGBERT). In this tutorial, we don't use GPUs which would speed up the process enourmously."
      ],
      "metadata": {
        "id": "OcAUfX8owDjR"
      }
    },
    {
      "cell_type": "code",
      "source": [
        "### Load the models (takes ca. 1 min)\n",
        "# Environmental model.\n",
        "name = \"ESGBERT/EnvironmentalBERT-environmental\" # path to download from HuggingFace\n",
        "# In simple words, the tokenizer prepares the text for the model and the model classifies the text-\n",
        "tokenizer = AutoTokenizer.from_pretrained(name)\n",
        "model = AutoModelForSequenceClassification.from_pretrained(name)\n",
        "# The pipeline combines tokenizer and model to one process.\n",
        "pipe_env = pipeline(\"text-classification\", model=model, tokenizer=tokenizer)\n",
        "\n",
        "# Also load the social and governance model.\n",
        "# Social model.\n",
        "name = \"ESGBERT/SocialBERT-social\"\n",
        "tokenizer = AutoTokenizer.from_pretrained(name)\n",
        "model = AutoModelForSequenceClassification.from_pretrained(name)\n",
        "pipe_soc = pipeline(\"text-classification\", model=model, tokenizer=tokenizer)\n",
        "\n",
        "# Governance model.\n",
        "name = \"ESGBERT/GovernanceBERT-governance\"\n",
        "tokenizer = AutoTokenizer.from_pretrained(name)\n",
        "model = AutoModelForSequenceClassification.from_pretrained(name)\n",
        "pipe_gov = pipeline(\"text-classification\", model=model, tokenizer=tokenizer)"
      ],
      "metadata": {
        "id": "5EFu8UEHwCFB"
      },
      "execution_count": null,
      "outputs": []
    },
    {
      "cell_type": "markdown",
      "source": [
        "Now, we downloaded models, tokenizer and create the pipeline. This means, we're already ready to go with the classification."
      ],
      "metadata": {
        "id": "-_febTTz4-Vr"
      }
    },
    {
      "cell_type": "code",
      "source": [
        "# You can input single sentences or arrays of sentences into the pipeline,\n",
        "sentences_test = [\"Besides financial considerations, we also consider harms to the biodiversity and broader ecosystem impacts.\",\n",
        "                  \"Scope 1 emissions are reported here on a like-for-like basis against the 2013 baseline and exclude emissions from additional vehicles used during repairs.\",\n",
        "                  \"Tokenization is used in natural language processing to split paragraphs and sentences into smaller units that can be more easily assigned meaning.\"]\n",
        "test = pipe_env(sentences_test)\n",
        "print(test)"
      ],
      "metadata": {
        "id": "bAyJ4SIx5MPj"
      },
      "execution_count": null,
      "outputs": []
    },
    {
      "cell_type": "code",
      "source": [
        "# Only output the label of the first sentence.\n",
        "print(test[0][\"label\"]) # label of first element"
      ],
      "metadata": {
        "id": "kj_Ql-Oe6txl"
      },
      "execution_count": null,
      "outputs": []
    },
    {
      "cell_type": "markdown",
      "source": [
        "You can observe an array of lists as output. The first value gives you the label which could be \"environmental\" or \"none\". Furthermore, the 'score' gives you an indication of the confidence of the model in its decision. Play around yourself with the other models and produce example outputs."
      ],
      "metadata": {
        "id": "jm8-4uFV6LDF"
      }
    },
    {
      "cell_type": "code",
      "source": [
        "# Try it yourself. Insert a sentence.\n",
        "sentences_test_2 = [\"A\"]\n",
        "test = pipe_soc(sentences_test_2)\n",
        "print(test)"
      ],
      "metadata": {
        "id": "ifTWkdnv62zf"
      },
      "execution_count": null,
      "outputs": []
    },
    {
      "cell_type": "markdown",
      "source": [
        "## Step 2: Extract texts from PDFs\n",
        "\n",
        "Since this tutorial aims to classify the texts in a complete report, we now download an annual report and split it into single sentences."
      ],
      "metadata": {
        "id": "-GqBNxsn7G2P"
      }
    },
    {
      "cell_type": "code",
      "source": [
        "# We use the AUDI annual report to analyse in this example.\n",
        "path = \"https://www.audi.com/content/dam/gbp2/downloads/report/annual-reports/2022/en/audi-report-2022.pdf\"\n",
        "\n",
        "# The from_file() function of tika helps us to load the content of the document. (take ca. 30 sec)\n",
        "report = parser.from_file(path)"
      ],
      "metadata": {
        "id": "T1uloVcb8XVm"
      },
      "execution_count": null,
      "outputs": []
    },
    {
      "cell_type": "code",
      "source": [
        "# Have a look at the raw content extracted from the PDF.\n",
        "print(report[\"content\"])"
      ],
      "metadata": {
        "id": "DnOmDVLl84xo"
      },
      "execution_count": null,
      "outputs": []
    },
    {
      "cell_type": "markdown",
      "source": [
        "Now, we want to bring this content on sentence-level to classify it."
      ],
      "metadata": {
        "id": "qfnxlnrJAOQD"
      }
    },
    {
      "cell_type": "code",
      "source": [
        "# For this, we use the nlp() function from spacy. (takes 20 secs)\n",
        "nlp = spacy.load('en_core_web_sm')\n",
        "about_doc = nlp(report[\"content\"])"
      ],
      "metadata": {
        "id": "j2wEyHkM9FSU"
      },
      "execution_count": null,
      "outputs": []
    },
    {
      "cell_type": "markdown",
      "source": [
        "This allows us to have every text sequence of the report. We can look at the results. This may look a look a bit complicated, but we just transfer the output to a list of text sequences."
      ],
      "metadata": {
        "id": "Uq1iOfZn_-tj"
      }
    },
    {
      "cell_type": "code",
      "source": [
        "# We transfer the sequences (\"about_doc.sents\") to a list of raw strings.\n",
        "sequences = list(map(str, about_doc.sents))\n",
        "# Look at the first 10 text sequences.\n",
        "sequences[:10]"
      ],
      "metadata": {
        "id": "AALweoh5-RLO"
      },
      "execution_count": null,
      "outputs": []
    },
    {
      "cell_type": "markdown",
      "source": [
        "Looking at the output, it becomes apparent that we have many sequences that are actually no sentences, e.g. headlines. Thus, in this prototype, we use a row of naive filters to improve the output quality."
      ],
      "metadata": {
        "id": "9mI3GfPf_pYn"
      }
    },
    {
      "cell_type": "code",
      "source": [
        "# \"\\n\" signals a new line. We remove this so that the output looks better.\n",
        "sentences = [x.replace(\"\\n\", \"\") for x in sequences]\n",
        "\n",
        "# Remove all empty text, i.e. if the value is \"\", i.e are empty.\n",
        "sentences = [x for x in sentences if x != \"\"]\n",
        "\n",
        "# A sentence should start with upper case.\n",
        "sentences = [x for x in sentences if x[0].isupper()]\n",
        "\n",
        "sentences[:10]"
      ],
      "metadata": {
        "id": "-bOxU8aM_nvb"
      },
      "execution_count": null,
      "outputs": []
    },
    {
      "cell_type": "markdown",
      "source": [
        "Much more sophisticated filters are possible but also beyond this tutorial."
      ],
      "metadata": {
        "id": "YPIlyuBhDCsz"
      }
    },
    {
      "cell_type": "markdown",
      "source": [
        "## Step 3: Classify the whole report"
      ],
      "metadata": {
        "id": "Bu4rHepYD0hj"
      }
    },
    {
      "cell_type": "markdown",
      "source": [
        "Now, we want to classify the texts. In this demo, we will only classify a subset of the texts towards their environmental label because we are not yet using GPUs (see next tutorials) which will speed up the process immensely. This reduces the time for classification from minutes to seconds. [Full classification now takes around 5 minutes.]"
      ],
      "metadata": {
        "id": "7yjXNMAbWX7b"
      }
    },
    {
      "cell_type": "code",
      "source": [
        "# Classify subset of sentences.\n",
        "# The padding and trunctuation parameters help us with classifying texts of different length.\n",
        "sub_sentences = sentences[:100] # takes around 20 seconds\n",
        "env = pipe_env(sub_sentences, padding=True, truncation=True)\n",
        "\n",
        "# You might only want the labels.\n",
        "env_labels = [x[\"label\"] for x in env]"
      ],
      "metadata": {
        "id": "ItXwGlptD4SW"
      },
      "execution_count": null,
      "outputs": []
    },
    {
      "cell_type": "code",
      "source": [
        "# Let's look at the results. We use a dataframe for this purpose.\n",
        "data_env = pd.DataFrame({\"sentence\": sub_sentences, \"environmental\": env_labels})\n",
        "# Which sentences are labeled as environmental?\n",
        "data_env[data_env[\"environmental\"] == \"environmental\"]\n",
        "# Click the first blue symbol that looks like a calculator in the top right of the dataframe to have a closer look.\n",
        "# Click the first blue symbol in the top right of the dataframe to have a closer look."
      ],
      "metadata": {
        "id": "sJ8l_TlQYuzF"
      },
      "execution_count": null,
      "outputs": []
    },
    {
      "cell_type": "code",
      "source": [
        "# It could also be interesting to look at the proporation of environmental sentences.\n",
        "print(data_env.groupby(\"environmental\").count())\n",
        "data_env.groupby(\"environmental\").count().plot(kind=\"bar\")"
      ],
      "metadata": {
        "id": "9XFFYemGaoQr"
      },
      "execution_count": null,
      "outputs": []
    },
    {
      "cell_type": "markdown",
      "source": [
        "This procedure is easily scalable to whole reports or a large number of reports."
      ],
      "metadata": {
        "id": "bqk5qZRKbC7x"
      }
    },
    {
      "cell_type": "markdown",
      "source": [
        "## Step 4: Use advanced language patterns"
      ],
      "metadata": {
        "id": "ytTsAWCWXy9E"
      }
    },
    {
      "cell_type": "markdown",
      "source": [
        "Besides the sole environmental classification, the real value may lie in advanced language patterns. One question of interest might be if the company perceives climate as a risk, neutral or as an opportunity. We borrow models from a related project to identify this: ClimateBERT."
      ],
      "metadata": {
        "id": "yt7dHqcOX-jy"
      }
    },
    {
      "cell_type": "code",
      "source": [
        "# To load the model, we use the exact same steps as above.\n",
        "model_name = \"climatebert/distilroberta-base-climate-sentiment\"\n",
        "model = AutoModelForSequenceClassification.from_pretrained(model_name)\n",
        "tokenizer = AutoTokenizer.from_pretrained(model_name, max_len=512)\n",
        "pipe_sent = pipeline(\"text-classification\", model=model, tokenizer=tokenizer)"
      ],
      "metadata": {
        "id": "PPuX6KtsXyCM"
      },
      "execution_count": null,
      "outputs": []
    },
    {
      "cell_type": "code",
      "source": [
        "# Use the model on the dataset.\n",
        "sentiment = pipe_sent(sub_sentences, padding=True, truncation=True)\n",
        "# Add the sentiment to the DataFrame.\n",
        "data_env[\"sentiment\"] = [x[\"label\"] for x in sentiment]"
      ],
      "metadata": {
        "id": "v1A-iabKbOPu"
      },
      "execution_count": null,
      "outputs": []
    },
    {
      "cell_type": "code",
      "source": [
        "# Again, have a look at the outcome.\n",
        "data_env[data_env[\"environmental\"] == \"environmental\"]\n",
        "# Click the first blue symbol that looks like a calculator in the top right of the dataframe to have a closer look.\n",
        "# Audi seems to display a enthusiastic, pironeering spirit towards sustainability. This positive attitude is reflected as \"opportunity\"."
      ],
      "metadata": {
        "id": "5fHk3_L7bq_5"
      },
      "execution_count": null,
      "outputs": []
    },
    {
      "cell_type": "code",
      "source": [
        "# Let's plot the distribution again.\n",
        "print(data_env[data_env[\"environmental\"] == \"environmental\"].groupby(\"sentiment\").count()[\"environmental\"])\n",
        "data_env[data_env[\"environmental\"] == \"environmental\"].groupby(\"sentiment\").count()[\"environmental\"].plot(kind = \"bar\", figsize=(5, 3))"
      ],
      "metadata": {
        "id": "Lz5IqwDUcW9n"
      },
      "execution_count": null,
      "outputs": []
    },
    {
      "cell_type": "markdown",
      "source": [
        "With that, we close today's tutorial. I hope, you found this helpful. I will update this file once the new tutorial on GPUs and large-scale analysis is out. Until then, feel free to read the [paper on the ESG BERTs](https://papers.ssrn.com/sol3/papers.cfm?abstract_id=4622514) or follow [me on LinkedIn](https://www.linkedin.com/in/tobias-schimanski-964077182/) to not miss out on new developments."
      ],
      "metadata": {
        "id": "ZA1zXA8-cqnj"
      }
    }
  ]
}