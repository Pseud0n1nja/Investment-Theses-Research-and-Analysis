{
  "nbformat": 4,
  "nbformat_minor": 0,
  "metadata": {
    "colab": {
      "provenance": [],
      "gpuType": "T4",
      "include_colab_link": true
    },
    "kernelspec": {
      "name": "python3",
      "display_name": "Python 3"
    },
    "language_info": {
      "name": "python"
    },
    "accelerator": "GPU",
    "widgets": {
      "application/vnd.jupyter.widget-state+json": {
        "a7e6a494aaa74f56a46cd02e23c8186e": {
          "model_module": "@jupyter-widgets/controls",
          "model_name": "HBoxModel",
          "model_module_version": "1.5.0",
          "state": {
            "_dom_classes": [],
            "_model_module": "@jupyter-widgets/controls",
            "_model_module_version": "1.5.0",
            "_model_name": "HBoxModel",
            "_view_count": null,
            "_view_module": "@jupyter-widgets/controls",
            "_view_module_version": "1.5.0",
            "_view_name": "HBoxView",
            "box_style": "",
            "children": [
              "IPY_MODEL_e7cdbe9e2bd341f9a41fe27fcb3552b1",
              "IPY_MODEL_c7ada9c01a8d4832917572b24e47e7ac",
              "IPY_MODEL_44a528c30c1c4876b410714605e75aff"
            ],
            "layout": "IPY_MODEL_e7957d61325247bb93a48fd562b9b4de"
          }
        },
        "e7cdbe9e2bd341f9a41fe27fcb3552b1": {
          "model_module": "@jupyter-widgets/controls",
          "model_name": "HTMLModel",
          "model_module_version": "1.5.0",
          "state": {
            "_dom_classes": [],
            "_model_module": "@jupyter-widgets/controls",
            "_model_module_version": "1.5.0",
            "_model_name": "HTMLModel",
            "_view_count": null,
            "_view_module": "@jupyter-widgets/controls",
            "_view_module_version": "1.5.0",
            "_view_name": "HTMLView",
            "description": "",
            "description_tooltip": null,
            "layout": "IPY_MODEL_e47802ff67c04c00993d703721c0b061",
            "placeholder": "​",
            "style": "IPY_MODEL_2099a3b4f7954806bd781f76f7328b97",
            "value": "Map: 100%"
          }
        },
        "c7ada9c01a8d4832917572b24e47e7ac": {
          "model_module": "@jupyter-widgets/controls",
          "model_name": "FloatProgressModel",
          "model_module_version": "1.5.0",
          "state": {
            "_dom_classes": [],
            "_model_module": "@jupyter-widgets/controls",
            "_model_module_version": "1.5.0",
            "_model_name": "FloatProgressModel",
            "_view_count": null,
            "_view_module": "@jupyter-widgets/controls",
            "_view_module_version": "1.5.0",
            "_view_name": "ProgressView",
            "bar_style": "success",
            "description": "",
            "description_tooltip": null,
            "layout": "IPY_MODEL_0bfde50da21743b480655dd8c0c2da43",
            "max": 1286,
            "min": 0,
            "orientation": "horizontal",
            "style": "IPY_MODEL_50185cd151f340e292136de08d8e202d",
            "value": 1286
          }
        },
        "44a528c30c1c4876b410714605e75aff": {
          "model_module": "@jupyter-widgets/controls",
          "model_name": "HTMLModel",
          "model_module_version": "1.5.0",
          "state": {
            "_dom_classes": [],
            "_model_module": "@jupyter-widgets/controls",
            "_model_module_version": "1.5.0",
            "_model_name": "HTMLModel",
            "_view_count": null,
            "_view_module": "@jupyter-widgets/controls",
            "_view_module_version": "1.5.0",
            "_view_name": "HTMLView",
            "description": "",
            "description_tooltip": null,
            "layout": "IPY_MODEL_d360a8a92bfa40029adf23cf99992afb",
            "placeholder": "​",
            "style": "IPY_MODEL_3c3baeb68a9d4dd8b54e579dd6ea23f8",
            "value": " 1286/1286 [00:00&lt;00:00, 4118.91 examples/s]"
          }
        },
        "e7957d61325247bb93a48fd562b9b4de": {
          "model_module": "@jupyter-widgets/base",
          "model_name": "LayoutModel",
          "model_module_version": "1.2.0",
          "state": {
            "_model_module": "@jupyter-widgets/base",
            "_model_module_version": "1.2.0",
            "_model_name": "LayoutModel",
            "_view_count": null,
            "_view_module": "@jupyter-widgets/base",
            "_view_module_version": "1.2.0",
            "_view_name": "LayoutView",
            "align_content": null,
            "align_items": null,
            "align_self": null,
            "border": null,
            "bottom": null,
            "display": null,
            "flex": null,
            "flex_flow": null,
            "grid_area": null,
            "grid_auto_columns": null,
            "grid_auto_flow": null,
            "grid_auto_rows": null,
            "grid_column": null,
            "grid_gap": null,
            "grid_row": null,
            "grid_template_areas": null,
            "grid_template_columns": null,
            "grid_template_rows": null,
            "height": null,
            "justify_content": null,
            "justify_items": null,
            "left": null,
            "margin": null,
            "max_height": null,
            "max_width": null,
            "min_height": null,
            "min_width": null,
            "object_fit": null,
            "object_position": null,
            "order": null,
            "overflow": null,
            "overflow_x": null,
            "overflow_y": null,
            "padding": null,
            "right": null,
            "top": null,
            "visibility": null,
            "width": null
          }
        },
        "e47802ff67c04c00993d703721c0b061": {
          "model_module": "@jupyter-widgets/base",
          "model_name": "LayoutModel",
          "model_module_version": "1.2.0",
          "state": {
            "_model_module": "@jupyter-widgets/base",
            "_model_module_version": "1.2.0",
            "_model_name": "LayoutModel",
            "_view_count": null,
            "_view_module": "@jupyter-widgets/base",
            "_view_module_version": "1.2.0",
            "_view_name": "LayoutView",
            "align_content": null,
            "align_items": null,
            "align_self": null,
            "border": null,
            "bottom": null,
            "display": null,
            "flex": null,
            "flex_flow": null,
            "grid_area": null,
            "grid_auto_columns": null,
            "grid_auto_flow": null,
            "grid_auto_rows": null,
            "grid_column": null,
            "grid_gap": null,
            "grid_row": null,
            "grid_template_areas": null,
            "grid_template_columns": null,
            "grid_template_rows": null,
            "height": null,
            "justify_content": null,
            "justify_items": null,
            "left": null,
            "margin": null,
            "max_height": null,
            "max_width": null,
            "min_height": null,
            "min_width": null,
            "object_fit": null,
            "object_position": null,
            "order": null,
            "overflow": null,
            "overflow_x": null,
            "overflow_y": null,
            "padding": null,
            "right": null,
            "top": null,
            "visibility": null,
            "width": null
          }
        },
        "2099a3b4f7954806bd781f76f7328b97": {
          "model_module": "@jupyter-widgets/controls",
          "model_name": "DescriptionStyleModel",
          "model_module_version": "1.5.0",
          "state": {
            "_model_module": "@jupyter-widgets/controls",
            "_model_module_version": "1.5.0",
            "_model_name": "DescriptionStyleModel",
            "_view_count": null,
            "_view_module": "@jupyter-widgets/base",
            "_view_module_version": "1.2.0",
            "_view_name": "StyleView",
            "description_width": ""
          }
        },
        "0bfde50da21743b480655dd8c0c2da43": {
          "model_module": "@jupyter-widgets/base",
          "model_name": "LayoutModel",
          "model_module_version": "1.2.0",
          "state": {
            "_model_module": "@jupyter-widgets/base",
            "_model_module_version": "1.2.0",
            "_model_name": "LayoutModel",
            "_view_count": null,
            "_view_module": "@jupyter-widgets/base",
            "_view_module_version": "1.2.0",
            "_view_name": "LayoutView",
            "align_content": null,
            "align_items": null,
            "align_self": null,
            "border": null,
            "bottom": null,
            "display": null,
            "flex": null,
            "flex_flow": null,
            "grid_area": null,
            "grid_auto_columns": null,
            "grid_auto_flow": null,
            "grid_auto_rows": null,
            "grid_column": null,
            "grid_gap": null,
            "grid_row": null,
            "grid_template_areas": null,
            "grid_template_columns": null,
            "grid_template_rows": null,
            "height": null,
            "justify_content": null,
            "justify_items": null,
            "left": null,
            "margin": null,
            "max_height": null,
            "max_width": null,
            "min_height": null,
            "min_width": null,
            "object_fit": null,
            "object_position": null,
            "order": null,
            "overflow": null,
            "overflow_x": null,
            "overflow_y": null,
            "padding": null,
            "right": null,
            "top": null,
            "visibility": null,
            "width": null
          }
        },
        "50185cd151f340e292136de08d8e202d": {
          "model_module": "@jupyter-widgets/controls",
          "model_name": "ProgressStyleModel",
          "model_module_version": "1.5.0",
          "state": {
            "_model_module": "@jupyter-widgets/controls",
            "_model_module_version": "1.5.0",
            "_model_name": "ProgressStyleModel",
            "_view_count": null,
            "_view_module": "@jupyter-widgets/base",
            "_view_module_version": "1.2.0",
            "_view_name": "StyleView",
            "bar_color": null,
            "description_width": ""
          }
        },
        "d360a8a92bfa40029adf23cf99992afb": {
          "model_module": "@jupyter-widgets/base",
          "model_name": "LayoutModel",
          "model_module_version": "1.2.0",
          "state": {
            "_model_module": "@jupyter-widgets/base",
            "_model_module_version": "1.2.0",
            "_model_name": "LayoutModel",
            "_view_count": null,
            "_view_module": "@jupyter-widgets/base",
            "_view_module_version": "1.2.0",
            "_view_name": "LayoutView",
            "align_content": null,
            "align_items": null,
            "align_self": null,
            "border": null,
            "bottom": null,
            "display": null,
            "flex": null,
            "flex_flow": null,
            "grid_area": null,
            "grid_auto_columns": null,
            "grid_auto_flow": null,
            "grid_auto_rows": null,
            "grid_column": null,
            "grid_gap": null,
            "grid_row": null,
            "grid_template_areas": null,
            "grid_template_columns": null,
            "grid_template_rows": null,
            "height": null,
            "justify_content": null,
            "justify_items": null,
            "left": null,
            "margin": null,
            "max_height": null,
            "max_width": null,
            "min_height": null,
            "min_width": null,
            "object_fit": null,
            "object_position": null,
            "order": null,
            "overflow": null,
            "overflow_x": null,
            "overflow_y": null,
            "padding": null,
            "right": null,
            "top": null,
            "visibility": null,
            "width": null
          }
        },
        "3c3baeb68a9d4dd8b54e579dd6ea23f8": {
          "model_module": "@jupyter-widgets/controls",
          "model_name": "DescriptionStyleModel",
          "model_module_version": "1.5.0",
          "state": {
            "_model_module": "@jupyter-widgets/controls",
            "_model_module_version": "1.5.0",
            "_model_name": "DescriptionStyleModel",
            "_view_count": null,
            "_view_module": "@jupyter-widgets/base",
            "_view_module_version": "1.2.0",
            "_view_name": "StyleView",
            "description_width": ""
          }
        },
        "1b3fa34c8b934b5cbf59c1208c1bf5dd": {
          "model_module": "@jupyter-widgets/controls",
          "model_name": "HBoxModel",
          "model_module_version": "1.5.0",
          "state": {
            "_dom_classes": [],
            "_model_module": "@jupyter-widgets/controls",
            "_model_module_version": "1.5.0",
            "_model_name": "HBoxModel",
            "_view_count": null,
            "_view_module": "@jupyter-widgets/controls",
            "_view_module_version": "1.5.0",
            "_view_name": "HBoxView",
            "box_style": "",
            "children": [
              "IPY_MODEL_75a03e7ceb5648d49c1b971002ef118b",
              "IPY_MODEL_b25f22080bad403aaab86c50b06de817",
              "IPY_MODEL_56fe657ed9ec4b15acfdbdfc70127dad"
            ],
            "layout": "IPY_MODEL_1fbf392a03d241768700eb65f25e7784"
          }
        },
        "75a03e7ceb5648d49c1b971002ef118b": {
          "model_module": "@jupyter-widgets/controls",
          "model_name": "HTMLModel",
          "model_module_version": "1.5.0",
          "state": {
            "_dom_classes": [],
            "_model_module": "@jupyter-widgets/controls",
            "_model_module_version": "1.5.0",
            "_model_name": "HTMLModel",
            "_view_count": null,
            "_view_module": "@jupyter-widgets/controls",
            "_view_module_version": "1.5.0",
            "_view_name": "HTMLView",
            "description": "",
            "description_tooltip": null,
            "layout": "IPY_MODEL_08c428be9c794edd84a56ae9ae31039c",
            "placeholder": "​",
            "style": "IPY_MODEL_1b17b252ea5e4e35bdebbeb88d5339d9",
            "value": "Map: 100%"
          }
        },
        "b25f22080bad403aaab86c50b06de817": {
          "model_module": "@jupyter-widgets/controls",
          "model_name": "FloatProgressModel",
          "model_module_version": "1.5.0",
          "state": {
            "_dom_classes": [],
            "_model_module": "@jupyter-widgets/controls",
            "_model_module_version": "1.5.0",
            "_model_name": "FloatProgressModel",
            "_view_count": null,
            "_view_module": "@jupyter-widgets/controls",
            "_view_module_version": "1.5.0",
            "_view_name": "ProgressView",
            "bar_style": "success",
            "description": "",
            "description_tooltip": null,
            "layout": "IPY_MODEL_ac9b591dfc2d4b6c8466b6b27e2de65c",
            "max": 320,
            "min": 0,
            "orientation": "horizontal",
            "style": "IPY_MODEL_65737a60a4d64f70a861b11a28e96ac4",
            "value": 320
          }
        },
        "56fe657ed9ec4b15acfdbdfc70127dad": {
          "model_module": "@jupyter-widgets/controls",
          "model_name": "HTMLModel",
          "model_module_version": "1.5.0",
          "state": {
            "_dom_classes": [],
            "_model_module": "@jupyter-widgets/controls",
            "_model_module_version": "1.5.0",
            "_model_name": "HTMLModel",
            "_view_count": null,
            "_view_module": "@jupyter-widgets/controls",
            "_view_module_version": "1.5.0",
            "_view_name": "HTMLView",
            "description": "",
            "description_tooltip": null,
            "layout": "IPY_MODEL_1700180126b7451892cc8a769380a2d7",
            "placeholder": "​",
            "style": "IPY_MODEL_7dbcad7530e94fafac97d80b654ddb0d",
            "value": " 320/320 [00:00&lt;00:00, 3098.13 examples/s]"
          }
        },
        "1fbf392a03d241768700eb65f25e7784": {
          "model_module": "@jupyter-widgets/base",
          "model_name": "LayoutModel",
          "model_module_version": "1.2.0",
          "state": {
            "_model_module": "@jupyter-widgets/base",
            "_model_module_version": "1.2.0",
            "_model_name": "LayoutModel",
            "_view_count": null,
            "_view_module": "@jupyter-widgets/base",
            "_view_module_version": "1.2.0",
            "_view_name": "LayoutView",
            "align_content": null,
            "align_items": null,
            "align_self": null,
            "border": null,
            "bottom": null,
            "display": null,
            "flex": null,
            "flex_flow": null,
            "grid_area": null,
            "grid_auto_columns": null,
            "grid_auto_flow": null,
            "grid_auto_rows": null,
            "grid_column": null,
            "grid_gap": null,
            "grid_row": null,
            "grid_template_areas": null,
            "grid_template_columns": null,
            "grid_template_rows": null,
            "height": null,
            "justify_content": null,
            "justify_items": null,
            "left": null,
            "margin": null,
            "max_height": null,
            "max_width": null,
            "min_height": null,
            "min_width": null,
            "object_fit": null,
            "object_position": null,
            "order": null,
            "overflow": null,
            "overflow_x": null,
            "overflow_y": null,
            "padding": null,
            "right": null,
            "top": null,
            "visibility": null,
            "width": null
          }
        },
        "08c428be9c794edd84a56ae9ae31039c": {
          "model_module": "@jupyter-widgets/base",
          "model_name": "LayoutModel",
          "model_module_version": "1.2.0",
          "state": {
            "_model_module": "@jupyter-widgets/base",
            "_model_module_version": "1.2.0",
            "_model_name": "LayoutModel",
            "_view_count": null,
            "_view_module": "@jupyter-widgets/base",
            "_view_module_version": "1.2.0",
            "_view_name": "LayoutView",
            "align_content": null,
            "align_items": null,
            "align_self": null,
            "border": null,
            "bottom": null,
            "display": null,
            "flex": null,
            "flex_flow": null,
            "grid_area": null,
            "grid_auto_columns": null,
            "grid_auto_flow": null,
            "grid_auto_rows": null,
            "grid_column": null,
            "grid_gap": null,
            "grid_row": null,
            "grid_template_areas": null,
            "grid_template_columns": null,
            "grid_template_rows": null,
            "height": null,
            "justify_content": null,
            "justify_items": null,
            "left": null,
            "margin": null,
            "max_height": null,
            "max_width": null,
            "min_height": null,
            "min_width": null,
            "object_fit": null,
            "object_position": null,
            "order": null,
            "overflow": null,
            "overflow_x": null,
            "overflow_y": null,
            "padding": null,
            "right": null,
            "top": null,
            "visibility": null,
            "width": null
          }
        },
        "1b17b252ea5e4e35bdebbeb88d5339d9": {
          "model_module": "@jupyter-widgets/controls",
          "model_name": "DescriptionStyleModel",
          "model_module_version": "1.5.0",
          "state": {
            "_model_module": "@jupyter-widgets/controls",
            "_model_module_version": "1.5.0",
            "_model_name": "DescriptionStyleModel",
            "_view_count": null,
            "_view_module": "@jupyter-widgets/base",
            "_view_module_version": "1.2.0",
            "_view_name": "StyleView",
            "description_width": ""
          }
        },
        "ac9b591dfc2d4b6c8466b6b27e2de65c": {
          "model_module": "@jupyter-widgets/base",
          "model_name": "LayoutModel",
          "model_module_version": "1.2.0",
          "state": {
            "_model_module": "@jupyter-widgets/base",
            "_model_module_version": "1.2.0",
            "_model_name": "LayoutModel",
            "_view_count": null,
            "_view_module": "@jupyter-widgets/base",
            "_view_module_version": "1.2.0",
            "_view_name": "LayoutView",
            "align_content": null,
            "align_items": null,
            "align_self": null,
            "border": null,
            "bottom": null,
            "display": null,
            "flex": null,
            "flex_flow": null,
            "grid_area": null,
            "grid_auto_columns": null,
            "grid_auto_flow": null,
            "grid_auto_rows": null,
            "grid_column": null,
            "grid_gap": null,
            "grid_row": null,
            "grid_template_areas": null,
            "grid_template_columns": null,
            "grid_template_rows": null,
            "height": null,
            "justify_content": null,
            "justify_items": null,
            "left": null,
            "margin": null,
            "max_height": null,
            "max_width": null,
            "min_height": null,
            "min_width": null,
            "object_fit": null,
            "object_position": null,
            "order": null,
            "overflow": null,
            "overflow_x": null,
            "overflow_y": null,
            "padding": null,
            "right": null,
            "top": null,
            "visibility": null,
            "width": null
          }
        },
        "65737a60a4d64f70a861b11a28e96ac4": {
          "model_module": "@jupyter-widgets/controls",
          "model_name": "ProgressStyleModel",
          "model_module_version": "1.5.0",
          "state": {
            "_model_module": "@jupyter-widgets/controls",
            "_model_module_version": "1.5.0",
            "_model_name": "ProgressStyleModel",
            "_view_count": null,
            "_view_module": "@jupyter-widgets/base",
            "_view_module_version": "1.2.0",
            "_view_name": "StyleView",
            "bar_color": null,
            "description_width": ""
          }
        },
        "1700180126b7451892cc8a769380a2d7": {
          "model_module": "@jupyter-widgets/base",
          "model_name": "LayoutModel",
          "model_module_version": "1.2.0",
          "state": {
            "_model_module": "@jupyter-widgets/base",
            "_model_module_version": "1.2.0",
            "_model_name": "LayoutModel",
            "_view_count": null,
            "_view_module": "@jupyter-widgets/base",
            "_view_module_version": "1.2.0",
            "_view_name": "LayoutView",
            "align_content": null,
            "align_items": null,
            "align_self": null,
            "border": null,
            "bottom": null,
            "display": null,
            "flex": null,
            "flex_flow": null,
            "grid_area": null,
            "grid_auto_columns": null,
            "grid_auto_flow": null,
            "grid_auto_rows": null,
            "grid_column": null,
            "grid_gap": null,
            "grid_row": null,
            "grid_template_areas": null,
            "grid_template_columns": null,
            "grid_template_rows": null,
            "height": null,
            "justify_content": null,
            "justify_items": null,
            "left": null,
            "margin": null,
            "max_height": null,
            "max_width": null,
            "min_height": null,
            "min_width": null,
            "object_fit": null,
            "object_position": null,
            "order": null,
            "overflow": null,
            "overflow_x": null,
            "overflow_y": null,
            "padding": null,
            "right": null,
            "top": null,
            "visibility": null,
            "width": null
          }
        },
        "7dbcad7530e94fafac97d80b654ddb0d": {
          "model_module": "@jupyter-widgets/controls",
          "model_name": "DescriptionStyleModel",
          "model_module_version": "1.5.0",
          "state": {
            "_model_module": "@jupyter-widgets/controls",
            "_model_module_version": "1.5.0",
            "_model_name": "DescriptionStyleModel",
            "_view_count": null,
            "_view_module": "@jupyter-widgets/base",
            "_view_module_version": "1.2.0",
            "_view_name": "StyleView",
            "description_width": ""
          }
        }
      }
    }
  },
  "cells": [
    {
      "cell_type": "markdown",
      "metadata": {
        "id": "view-in-github",
        "colab_type": "text"
      },
      "source": [
        "<a href=\"https://colab.research.google.com/github/Pseud0n1nja/Investment-Theses-Research-and-Analysis/blob/main/Tutorial_3_Finetuning_Models.ipynb\" target=\"_parent\"><img src=\"https://colab.research.google.com/assets/colab-badge.svg\" alt=\"Open In Colab\"/></a>"
      ]
    },
    {
      "cell_type": "markdown",
      "source": [
        "**In this tutorial, we learn how to fine-tune the models for your specific use cases.**\n",
        "\n",
        "This tutorial is the third of a series of tutorials. The first toutial [is here](https://medium.com/@schimanski.tobi/analyzing-esg-with-ai-and-nlp-tutorial-1-report-analysis-towards-esg-risks-and-opportunities-8daa2695f6c5). This tutorial is certainly more complex than the last ones. View this as a starting point and try to explore the concepts mentioned here step by step. The beauty of this code is that you can use it without entirely needing to understand every step. Understanding this can help you develop your own models and extend the datasets I have developed here. This is very important because you might find for instance that the models have flaws with spoken communication because they were only trained in written communication.\n",
        "\n",
        "**IMPORTANT**: We simplify the data enhancement and evaluation process in this tutorial for the sake of demonstration. You need more data and a good evaluation framework to validate these things in the real world."
      ],
      "metadata": {
        "id": "uHvxLy2UQj2-"
      }
    },
    {
      "cell_type": "markdown",
      "source": [
        "# Large Scale ESG Report Analysis\n",
        "\n",
        "**By Tobias Schimanski and based on my paper: \"Bridiging the Gap in ESG Measurement: Using NLP to Quantify Environmental, Social, and Governance Communication\"**\n",
        "\n",
        "This notebook serves as a basis for applying AI Natural Language Processing tools to corporate sustainability reports. It is particularily tailored for newcomers to the field with limited or no prior experience. In this tutorial, you can only press play and will be fine.\n",
        "\n",
        "If you are already advanced, you might just [want to read the paper](https://papers.ssrn.com/sol3/papers.cfm?abstract_id=4622514) and or go directly to the [models on HuggingFace](https://huggingface.co/ESGBERT)."
      ],
      "metadata": {
        "id": "EHX0WLjqQZxL"
      }
    },
    {
      "cell_type": "markdown",
      "source": [
        "## SET RUNTIME TO GPU\n",
        "\n",
        "In order to use the models on large-scale, we want to use GPUs (processing units that are super fast). For this, we gut on \"Runtime\" underneath the tutorial name, choose \"Change runtime type\" and then select any \"GPU\", probably \"T4 GPU\" if you are not a premium user."
      ],
      "metadata": {
        "id": "tWQF6NUvQn75"
      }
    },
    {
      "cell_type": "markdown",
      "source": [
        "## Import libraries\n",
        "\n",
        "We start by installing and importing some standard libraries as well as the \"transformers\" one. This will help us to use the tools."
      ],
      "metadata": {
        "id": "IOK56YefQ8GS"
      }
    },
    {
      "cell_type": "code",
      "source": [
        "!pip install transformers\n",
        "!pip install accelerate\n",
        "!pip install datasets"
      ],
      "metadata": {
        "colab": {
          "base_uri": "https://localhost:8080/"
        },
        "id": "ntkExNvORAzt",
        "outputId": "cc5d7359-cbf5-48da-efe3-09afacfb3772"
      },
      "execution_count": null,
      "outputs": [
        {
          "output_type": "stream",
          "name": "stdout",
          "text": [
            "Requirement already satisfied: transformers in /usr/local/lib/python3.10/dist-packages (4.35.2)\n",
            "Requirement already satisfied: filelock in /usr/local/lib/python3.10/dist-packages (from transformers) (3.13.1)\n",
            "Requirement already satisfied: huggingface-hub<1.0,>=0.16.4 in /usr/local/lib/python3.10/dist-packages (from transformers) (0.20.2)\n",
            "Requirement already satisfied: numpy>=1.17 in /usr/local/lib/python3.10/dist-packages (from transformers) (1.23.5)\n",
            "Requirement already satisfied: packaging>=20.0 in /usr/local/lib/python3.10/dist-packages (from transformers) (23.2)\n",
            "Requirement already satisfied: pyyaml>=5.1 in /usr/local/lib/python3.10/dist-packages (from transformers) (6.0.1)\n",
            "Requirement already satisfied: regex!=2019.12.17 in /usr/local/lib/python3.10/dist-packages (from transformers) (2023.6.3)\n",
            "Requirement already satisfied: requests in /usr/local/lib/python3.10/dist-packages (from transformers) (2.31.0)\n",
            "Requirement already satisfied: tokenizers<0.19,>=0.14 in /usr/local/lib/python3.10/dist-packages (from transformers) (0.15.0)\n",
            "Requirement already satisfied: safetensors>=0.3.1 in /usr/local/lib/python3.10/dist-packages (from transformers) (0.4.1)\n",
            "Requirement already satisfied: tqdm>=4.27 in /usr/local/lib/python3.10/dist-packages (from transformers) (4.66.1)\n",
            "Requirement already satisfied: fsspec>=2023.5.0 in /usr/local/lib/python3.10/dist-packages (from huggingface-hub<1.0,>=0.16.4->transformers) (2023.6.0)\n",
            "Requirement already satisfied: typing-extensions>=3.7.4.3 in /usr/local/lib/python3.10/dist-packages (from huggingface-hub<1.0,>=0.16.4->transformers) (4.5.0)\n",
            "Requirement already satisfied: charset-normalizer<4,>=2 in /usr/local/lib/python3.10/dist-packages (from requests->transformers) (3.3.2)\n",
            "Requirement already satisfied: idna<4,>=2.5 in /usr/local/lib/python3.10/dist-packages (from requests->transformers) (3.6)\n",
            "Requirement already satisfied: urllib3<3,>=1.21.1 in /usr/local/lib/python3.10/dist-packages (from requests->transformers) (2.0.7)\n",
            "Requirement already satisfied: certifi>=2017.4.17 in /usr/local/lib/python3.10/dist-packages (from requests->transformers) (2023.11.17)\n",
            "Requirement already satisfied: accelerate in /usr/local/lib/python3.10/dist-packages (0.26.1)\n",
            "Requirement already satisfied: numpy>=1.17 in /usr/local/lib/python3.10/dist-packages (from accelerate) (1.23.5)\n",
            "Requirement already satisfied: packaging>=20.0 in /usr/local/lib/python3.10/dist-packages (from accelerate) (23.2)\n",
            "Requirement already satisfied: psutil in /usr/local/lib/python3.10/dist-packages (from accelerate) (5.9.5)\n",
            "Requirement already satisfied: pyyaml in /usr/local/lib/python3.10/dist-packages (from accelerate) (6.0.1)\n",
            "Requirement already satisfied: torch>=1.10.0 in /usr/local/lib/python3.10/dist-packages (from accelerate) (2.1.0+cu121)\n",
            "Requirement already satisfied: huggingface-hub in /usr/local/lib/python3.10/dist-packages (from accelerate) (0.20.2)\n",
            "Requirement already satisfied: safetensors>=0.3.1 in /usr/local/lib/python3.10/dist-packages (from accelerate) (0.4.1)\n",
            "Requirement already satisfied: filelock in /usr/local/lib/python3.10/dist-packages (from torch>=1.10.0->accelerate) (3.13.1)\n",
            "Requirement already satisfied: typing-extensions in /usr/local/lib/python3.10/dist-packages (from torch>=1.10.0->accelerate) (4.5.0)\n",
            "Requirement already satisfied: sympy in /usr/local/lib/python3.10/dist-packages (from torch>=1.10.0->accelerate) (1.12)\n",
            "Requirement already satisfied: networkx in /usr/local/lib/python3.10/dist-packages (from torch>=1.10.0->accelerate) (3.2.1)\n",
            "Requirement already satisfied: jinja2 in /usr/local/lib/python3.10/dist-packages (from torch>=1.10.0->accelerate) (3.1.2)\n",
            "Requirement already satisfied: fsspec in /usr/local/lib/python3.10/dist-packages (from torch>=1.10.0->accelerate) (2023.6.0)\n",
            "Requirement already satisfied: triton==2.1.0 in /usr/local/lib/python3.10/dist-packages (from torch>=1.10.0->accelerate) (2.1.0)\n",
            "Requirement already satisfied: requests in /usr/local/lib/python3.10/dist-packages (from huggingface-hub->accelerate) (2.31.0)\n",
            "Requirement already satisfied: tqdm>=4.42.1 in /usr/local/lib/python3.10/dist-packages (from huggingface-hub->accelerate) (4.66.1)\n",
            "Requirement already satisfied: MarkupSafe>=2.0 in /usr/local/lib/python3.10/dist-packages (from jinja2->torch>=1.10.0->accelerate) (2.1.3)\n",
            "Requirement already satisfied: charset-normalizer<4,>=2 in /usr/local/lib/python3.10/dist-packages (from requests->huggingface-hub->accelerate) (3.3.2)\n",
            "Requirement already satisfied: idna<4,>=2.5 in /usr/local/lib/python3.10/dist-packages (from requests->huggingface-hub->accelerate) (3.6)\n",
            "Requirement already satisfied: urllib3<3,>=1.21.1 in /usr/local/lib/python3.10/dist-packages (from requests->huggingface-hub->accelerate) (2.0.7)\n",
            "Requirement already satisfied: certifi>=2017.4.17 in /usr/local/lib/python3.10/dist-packages (from requests->huggingface-hub->accelerate) (2023.11.17)\n",
            "Requirement already satisfied: mpmath>=0.19 in /usr/local/lib/python3.10/dist-packages (from sympy->torch>=1.10.0->accelerate) (1.3.0)\n",
            "Requirement already satisfied: datasets in /usr/local/lib/python3.10/dist-packages (2.16.1)\n",
            "Requirement already satisfied: filelock in /usr/local/lib/python3.10/dist-packages (from datasets) (3.13.1)\n",
            "Requirement already satisfied: numpy>=1.17 in /usr/local/lib/python3.10/dist-packages (from datasets) (1.23.5)\n",
            "Requirement already satisfied: pyarrow>=8.0.0 in /usr/local/lib/python3.10/dist-packages (from datasets) (10.0.1)\n",
            "Requirement already satisfied: pyarrow-hotfix in /usr/local/lib/python3.10/dist-packages (from datasets) (0.6)\n",
            "Requirement already satisfied: dill<0.3.8,>=0.3.0 in /usr/local/lib/python3.10/dist-packages (from datasets) (0.3.7)\n",
            "Requirement already satisfied: pandas in /usr/local/lib/python3.10/dist-packages (from datasets) (1.5.3)\n",
            "Requirement already satisfied: requests>=2.19.0 in /usr/local/lib/python3.10/dist-packages (from datasets) (2.31.0)\n",
            "Requirement already satisfied: tqdm>=4.62.1 in /usr/local/lib/python3.10/dist-packages (from datasets) (4.66.1)\n",
            "Requirement already satisfied: xxhash in /usr/local/lib/python3.10/dist-packages (from datasets) (3.4.1)\n",
            "Requirement already satisfied: multiprocess in /usr/local/lib/python3.10/dist-packages (from datasets) (0.70.15)\n",
            "Requirement already satisfied: fsspec[http]<=2023.10.0,>=2023.1.0 in /usr/local/lib/python3.10/dist-packages (from datasets) (2023.6.0)\n",
            "Requirement already satisfied: aiohttp in /usr/local/lib/python3.10/dist-packages (from datasets) (3.9.1)\n",
            "Requirement already satisfied: huggingface-hub>=0.19.4 in /usr/local/lib/python3.10/dist-packages (from datasets) (0.20.2)\n",
            "Requirement already satisfied: packaging in /usr/local/lib/python3.10/dist-packages (from datasets) (23.2)\n",
            "Requirement already satisfied: pyyaml>=5.1 in /usr/local/lib/python3.10/dist-packages (from datasets) (6.0.1)\n",
            "Requirement already satisfied: attrs>=17.3.0 in /usr/local/lib/python3.10/dist-packages (from aiohttp->datasets) (23.2.0)\n",
            "Requirement already satisfied: multidict<7.0,>=4.5 in /usr/local/lib/python3.10/dist-packages (from aiohttp->datasets) (6.0.4)\n",
            "Requirement already satisfied: yarl<2.0,>=1.0 in /usr/local/lib/python3.10/dist-packages (from aiohttp->datasets) (1.9.4)\n",
            "Requirement already satisfied: frozenlist>=1.1.1 in /usr/local/lib/python3.10/dist-packages (from aiohttp->datasets) (1.4.1)\n",
            "Requirement already satisfied: aiosignal>=1.1.2 in /usr/local/lib/python3.10/dist-packages (from aiohttp->datasets) (1.3.1)\n",
            "Requirement already satisfied: async-timeout<5.0,>=4.0 in /usr/local/lib/python3.10/dist-packages (from aiohttp->datasets) (4.0.3)\n",
            "Requirement already satisfied: typing-extensions>=3.7.4.3 in /usr/local/lib/python3.10/dist-packages (from huggingface-hub>=0.19.4->datasets) (4.5.0)\n",
            "Requirement already satisfied: charset-normalizer<4,>=2 in /usr/local/lib/python3.10/dist-packages (from requests>=2.19.0->datasets) (3.3.2)\n",
            "Requirement already satisfied: idna<4,>=2.5 in /usr/local/lib/python3.10/dist-packages (from requests>=2.19.0->datasets) (3.6)\n",
            "Requirement already satisfied: urllib3<3,>=1.21.1 in /usr/local/lib/python3.10/dist-packages (from requests>=2.19.0->datasets) (2.0.7)\n",
            "Requirement already satisfied: certifi>=2017.4.17 in /usr/local/lib/python3.10/dist-packages (from requests>=2.19.0->datasets) (2023.11.17)\n",
            "Requirement already satisfied: python-dateutil>=2.8.1 in /usr/local/lib/python3.10/dist-packages (from pandas->datasets) (2.8.2)\n",
            "Requirement already satisfied: pytz>=2020.1 in /usr/local/lib/python3.10/dist-packages (from pandas->datasets) (2023.3.post1)\n",
            "Requirement already satisfied: six>=1.5 in /usr/local/lib/python3.10/dist-packages (from python-dateutil>=2.8.1->pandas->datasets) (1.16.0)\n"
          ]
        }
      ]
    },
    {
      "cell_type": "code",
      "source": [
        "# standard libraries\n",
        "import pandas as pd\n",
        "import numpy as np\n",
        "import matplotlib.pyplot as plt\n",
        "\n",
        "from sklearn.metrics import precision_recall_fscore_support\n",
        "from sklearn.metrics import accuracy_score\n",
        "from sklearn.metrics import confusion_matrix, ConfusionMatrixDisplay\n",
        "from sklearn.metrics import classification_report\n",
        "from sklearn.model_selection import train_test_split\n",
        "\n",
        "import datasets\n",
        "from transformers import AutoModelForSequenceClassification, AutoTokenizer, pipeline # for using the models\n",
        "from transformers import DataCollatorWithPadding, TrainingArguments, Trainer, EarlyStoppingCallback # functions for the training"
      ],
      "metadata": {
        "id": "hv5dJA9PRFOW"
      },
      "execution_count": null,
      "outputs": []
    },
    {
      "cell_type": "markdown",
      "source": [
        "## Problem Statement"
      ],
      "metadata": {
        "id": "gsoxFHhRLHFt"
      }
    },
    {
      "cell_type": "markdown",
      "source": [
        "As you might know, the models are already uploaded to HuggingFace in their fine-tuned version. But you might also find some limitations when using them. For instance, spoken communication with the SocialBERT models sometimes leads to irretations. See the following example."
      ],
      "metadata": {
        "id": "_BB4-vavLJm7"
      }
    },
    {
      "cell_type": "code",
      "source": [
        "# Load the model as usual\n",
        "tokenizer_name = \"ESGBERT/SocialBERT-social\"\n",
        "model_name = \"ESGBERT/SocialBERT-social\"\n",
        "model = AutoModelForSequenceClassification.from_pretrained(model_name)\n",
        "tokenizer = AutoTokenizer.from_pretrained(tokenizer_name, max_len=512)\n",
        "pipe = pipeline(\"text-classification\", model=model, tokenizer=tokenizer)"
      ],
      "metadata": {
        "colab": {
          "base_uri": "https://localhost:8080/"
        },
        "id": "_5MPlw0hLdxk",
        "outputId": "133487da-c835-4e7e-e369-f562e5400998"
      },
      "execution_count": null,
      "outputs": [
        {
          "output_type": "stream",
          "name": "stderr",
          "text": [
            "/usr/local/lib/python3.10/dist-packages/huggingface_hub/utils/_token.py:88: UserWarning: \n",
            "The secret `HF_TOKEN` does not exist in your Colab secrets.\n",
            "To authenticate with the Hugging Face Hub, create a token in your settings tab (https://huggingface.co/settings/tokens), set it as secret in your Google Colab and restart your session.\n",
            "You will be able to reuse this secret in all of your notebooks.\n",
            "Please note that authentication is recommended but still optional to access public models or datasets.\n",
            "  warnings.warn(\n"
          ]
        }
      ]
    },
    {
      "cell_type": "code",
      "source": [
        "# Example\n",
        "pipe(\"Have a great day.\")"
      ],
      "metadata": {
        "colab": {
          "base_uri": "https://localhost:8080/"
        },
        "id": "wR1OyW5KL3Dt",
        "outputId": "6290d614-c5ec-4dda-a34e-73eae698ff1d"
      },
      "execution_count": null,
      "outputs": [
        {
          "output_type": "execute_result",
          "data": {
            "text/plain": [
              "[{'label': 'social', 'score': 0.5510378479957581}]"
            ]
          },
          "metadata": {},
          "execution_count": 4
        }
      ]
    },
    {
      "cell_type": "markdown",
      "source": [
        "When using the model and looking at the classifications, you might encounter something like this. The training process seems to steer the model to think that short, \"nice\"/ \"social interaction\" sentences are also part of the \"social\" label. This is likely because we trained the model to learn that \"nice\"/\"social interaction\" sentences in annual reports are \"social\". And now, this is a false generalization to spoken communication."
      ],
      "metadata": {
        "id": "rIToU1yuMGoi"
      }
    },
    {
      "cell_type": "markdown",
      "source": [
        "In this tutorial, I present how to fine-tune a model but more importantly, how to enhance the data with such misclassifications to overcome these problems for your use case."
      ],
      "metadata": {
        "id": "f85AnJjpNMyd"
      }
    },
    {
      "cell_type": "markdown",
      "source": [
        "# Dataset loading and adjustment"
      ],
      "metadata": {
        "id": "3tlrvYMYOKCG"
      }
    },
    {
      "cell_type": "markdown",
      "source": [
        "In this step, we first load the data. We want to split the data into a training dataset which will be used to finetune the model, an evaluation dataset to see evaluate the model *during* training and a test dataset to evaluate the model *after* training."
      ],
      "metadata": {
        "id": "4jhHQ3hkHSMF"
      }
    },
    {
      "cell_type": "code",
      "source": [
        "# use the dataset from the paper that is available on HuggingFace\n",
        "dataset_name = \"ESGBERT/social_2k\"\n",
        "hf_dataset = datasets.load_dataset(dataset_name)\n",
        "data = hf_dataset[\"train\"].to_pandas()[[\"text\", \"soc\"]]\n",
        "\n",
        "# traintest split using the non-preprocessed data (df)\n",
        "# use stratify to keep the label distribution of the original dataset\n",
        "# use random_state to always have the same outcome of the split\n",
        "train, test = train_test_split(data, test_size=.2, stratify=data[\"soc\"], random_state=42)\n",
        "train, val = train_test_split(train, test_size=.2, stratify=train[\"soc\"], random_state=42)\n",
        "\n",
        "print('Train samples: {}'.format(train.shape[0]))\n",
        "print('Val samples: {}'.format(val.shape[0]))\n",
        "print('Test samples: {}'.format(test.shape[0]))"
      ],
      "metadata": {
        "colab": {
          "base_uri": "https://localhost:8080/"
        },
        "id": "73HqpmQdWmop",
        "outputId": "18fffa46-da67-4601-d6ba-fbd3e93f0266"
      },
      "execution_count": null,
      "outputs": [
        {
          "output_type": "stream",
          "name": "stdout",
          "text": [
            "Train samples: 1280\n",
            "Val samples: 320\n",
            "Test samples: 400\n"
          ]
        }
      ]
    },
    {
      "cell_type": "code",
      "source": [
        "# look at the train data\n",
        "train.head()"
      ],
      "metadata": {
        "colab": {
          "base_uri": "https://localhost:8080/",
          "height": 206
        },
        "id": "5sel7mfPSQmE",
        "outputId": "b1a2f914-df56-4ebf-8348-4d54dd21ad6a"
      },
      "execution_count": null,
      "outputs": [
        {
          "output_type": "execute_result",
          "data": {
            "text/plain": [
              "                                                   text  soc\n",
              "1929  The majority of suppliers already had access t...    0\n",
              "1099  Our approach to ESG and sustainability is fund...    1\n",
              "6     Training The training delivered is designed to...    1\n",
              "795   The Directors believe that the Company's succe...    1\n",
              "1889  Our goal is for every employee to feel a stron...    1"
            ],
            "text/html": [
              "\n",
              "  <div id=\"df-349d6b69-a047-44f2-8a7b-60307dd85166\" class=\"colab-df-container\">\n",
              "    <div>\n",
              "<style scoped>\n",
              "    .dataframe tbody tr th:only-of-type {\n",
              "        vertical-align: middle;\n",
              "    }\n",
              "\n",
              "    .dataframe tbody tr th {\n",
              "        vertical-align: top;\n",
              "    }\n",
              "\n",
              "    .dataframe thead th {\n",
              "        text-align: right;\n",
              "    }\n",
              "</style>\n",
              "<table border=\"1\" class=\"dataframe\">\n",
              "  <thead>\n",
              "    <tr style=\"text-align: right;\">\n",
              "      <th></th>\n",
              "      <th>text</th>\n",
              "      <th>soc</th>\n",
              "    </tr>\n",
              "  </thead>\n",
              "  <tbody>\n",
              "    <tr>\n",
              "      <th>1929</th>\n",
              "      <td>The majority of suppliers already had access t...</td>\n",
              "      <td>0</td>\n",
              "    </tr>\n",
              "    <tr>\n",
              "      <th>1099</th>\n",
              "      <td>Our approach to ESG and sustainability is fund...</td>\n",
              "      <td>1</td>\n",
              "    </tr>\n",
              "    <tr>\n",
              "      <th>6</th>\n",
              "      <td>Training The training delivered is designed to...</td>\n",
              "      <td>1</td>\n",
              "    </tr>\n",
              "    <tr>\n",
              "      <th>795</th>\n",
              "      <td>The Directors believe that the Company's succe...</td>\n",
              "      <td>1</td>\n",
              "    </tr>\n",
              "    <tr>\n",
              "      <th>1889</th>\n",
              "      <td>Our goal is for every employee to feel a stron...</td>\n",
              "      <td>1</td>\n",
              "    </tr>\n",
              "  </tbody>\n",
              "</table>\n",
              "</div>\n",
              "    <div class=\"colab-df-buttons\">\n",
              "\n",
              "  <div class=\"colab-df-container\">\n",
              "    <button class=\"colab-df-convert\" onclick=\"convertToInteractive('df-349d6b69-a047-44f2-8a7b-60307dd85166')\"\n",
              "            title=\"Convert this dataframe to an interactive table.\"\n",
              "            style=\"display:none;\">\n",
              "\n",
              "  <svg xmlns=\"http://www.w3.org/2000/svg\" height=\"24px\" viewBox=\"0 -960 960 960\">\n",
              "    <path d=\"M120-120v-720h720v720H120Zm60-500h600v-160H180v160Zm220 220h160v-160H400v160Zm0 220h160v-160H400v160ZM180-400h160v-160H180v160Zm440 0h160v-160H620v160ZM180-180h160v-160H180v160Zm440 0h160v-160H620v160Z\"/>\n",
              "  </svg>\n",
              "    </button>\n",
              "\n",
              "  <style>\n",
              "    .colab-df-container {\n",
              "      display:flex;\n",
              "      gap: 12px;\n",
              "    }\n",
              "\n",
              "    .colab-df-convert {\n",
              "      background-color: #E8F0FE;\n",
              "      border: none;\n",
              "      border-radius: 50%;\n",
              "      cursor: pointer;\n",
              "      display: none;\n",
              "      fill: #1967D2;\n",
              "      height: 32px;\n",
              "      padding: 0 0 0 0;\n",
              "      width: 32px;\n",
              "    }\n",
              "\n",
              "    .colab-df-convert:hover {\n",
              "      background-color: #E2EBFA;\n",
              "      box-shadow: 0px 1px 2px rgba(60, 64, 67, 0.3), 0px 1px 3px 1px rgba(60, 64, 67, 0.15);\n",
              "      fill: #174EA6;\n",
              "    }\n",
              "\n",
              "    .colab-df-buttons div {\n",
              "      margin-bottom: 4px;\n",
              "    }\n",
              "\n",
              "    [theme=dark] .colab-df-convert {\n",
              "      background-color: #3B4455;\n",
              "      fill: #D2E3FC;\n",
              "    }\n",
              "\n",
              "    [theme=dark] .colab-df-convert:hover {\n",
              "      background-color: #434B5C;\n",
              "      box-shadow: 0px 1px 3px 1px rgba(0, 0, 0, 0.15);\n",
              "      filter: drop-shadow(0px 1px 2px rgba(0, 0, 0, 0.3));\n",
              "      fill: #FFFFFF;\n",
              "    }\n",
              "  </style>\n",
              "\n",
              "    <script>\n",
              "      const buttonEl =\n",
              "        document.querySelector('#df-349d6b69-a047-44f2-8a7b-60307dd85166 button.colab-df-convert');\n",
              "      buttonEl.style.display =\n",
              "        google.colab.kernel.accessAllowed ? 'block' : 'none';\n",
              "\n",
              "      async function convertToInteractive(key) {\n",
              "        const element = document.querySelector('#df-349d6b69-a047-44f2-8a7b-60307dd85166');\n",
              "        const dataTable =\n",
              "          await google.colab.kernel.invokeFunction('convertToInteractive',\n",
              "                                                    [key], {});\n",
              "        if (!dataTable) return;\n",
              "\n",
              "        const docLinkHtml = 'Like what you see? Visit the ' +\n",
              "          '<a target=\"_blank\" href=https://colab.research.google.com/notebooks/data_table.ipynb>data table notebook</a>'\n",
              "          + ' to learn more about interactive tables.';\n",
              "        element.innerHTML = '';\n",
              "        dataTable['output_type'] = 'display_data';\n",
              "        await google.colab.output.renderOutput(dataTable, element);\n",
              "        const docLink = document.createElement('div');\n",
              "        docLink.innerHTML = docLinkHtml;\n",
              "        element.appendChild(docLink);\n",
              "      }\n",
              "    </script>\n",
              "  </div>\n",
              "\n",
              "\n",
              "<div id=\"df-87030d27-d92c-4a9c-bbd2-4e1e4db6a4e4\">\n",
              "  <button class=\"colab-df-quickchart\" onclick=\"quickchart('df-87030d27-d92c-4a9c-bbd2-4e1e4db6a4e4')\"\n",
              "            title=\"Suggest charts\"\n",
              "            style=\"display:none;\">\n",
              "\n",
              "<svg xmlns=\"http://www.w3.org/2000/svg\" height=\"24px\"viewBox=\"0 0 24 24\"\n",
              "     width=\"24px\">\n",
              "    <g>\n",
              "        <path d=\"M19 3H5c-1.1 0-2 .9-2 2v14c0 1.1.9 2 2 2h14c1.1 0 2-.9 2-2V5c0-1.1-.9-2-2-2zM9 17H7v-7h2v7zm4 0h-2V7h2v10zm4 0h-2v-4h2v4z\"/>\n",
              "    </g>\n",
              "</svg>\n",
              "  </button>\n",
              "\n",
              "<style>\n",
              "  .colab-df-quickchart {\n",
              "      --bg-color: #E8F0FE;\n",
              "      --fill-color: #1967D2;\n",
              "      --hover-bg-color: #E2EBFA;\n",
              "      --hover-fill-color: #174EA6;\n",
              "      --disabled-fill-color: #AAA;\n",
              "      --disabled-bg-color: #DDD;\n",
              "  }\n",
              "\n",
              "  [theme=dark] .colab-df-quickchart {\n",
              "      --bg-color: #3B4455;\n",
              "      --fill-color: #D2E3FC;\n",
              "      --hover-bg-color: #434B5C;\n",
              "      --hover-fill-color: #FFFFFF;\n",
              "      --disabled-bg-color: #3B4455;\n",
              "      --disabled-fill-color: #666;\n",
              "  }\n",
              "\n",
              "  .colab-df-quickchart {\n",
              "    background-color: var(--bg-color);\n",
              "    border: none;\n",
              "    border-radius: 50%;\n",
              "    cursor: pointer;\n",
              "    display: none;\n",
              "    fill: var(--fill-color);\n",
              "    height: 32px;\n",
              "    padding: 0;\n",
              "    width: 32px;\n",
              "  }\n",
              "\n",
              "  .colab-df-quickchart:hover {\n",
              "    background-color: var(--hover-bg-color);\n",
              "    box-shadow: 0 1px 2px rgba(60, 64, 67, 0.3), 0 1px 3px 1px rgba(60, 64, 67, 0.15);\n",
              "    fill: var(--button-hover-fill-color);\n",
              "  }\n",
              "\n",
              "  .colab-df-quickchart-complete:disabled,\n",
              "  .colab-df-quickchart-complete:disabled:hover {\n",
              "    background-color: var(--disabled-bg-color);\n",
              "    fill: var(--disabled-fill-color);\n",
              "    box-shadow: none;\n",
              "  }\n",
              "\n",
              "  .colab-df-spinner {\n",
              "    border: 2px solid var(--fill-color);\n",
              "    border-color: transparent;\n",
              "    border-bottom-color: var(--fill-color);\n",
              "    animation:\n",
              "      spin 1s steps(1) infinite;\n",
              "  }\n",
              "\n",
              "  @keyframes spin {\n",
              "    0% {\n",
              "      border-color: transparent;\n",
              "      border-bottom-color: var(--fill-color);\n",
              "      border-left-color: var(--fill-color);\n",
              "    }\n",
              "    20% {\n",
              "      border-color: transparent;\n",
              "      border-left-color: var(--fill-color);\n",
              "      border-top-color: var(--fill-color);\n",
              "    }\n",
              "    30% {\n",
              "      border-color: transparent;\n",
              "      border-left-color: var(--fill-color);\n",
              "      border-top-color: var(--fill-color);\n",
              "      border-right-color: var(--fill-color);\n",
              "    }\n",
              "    40% {\n",
              "      border-color: transparent;\n",
              "      border-right-color: var(--fill-color);\n",
              "      border-top-color: var(--fill-color);\n",
              "    }\n",
              "    60% {\n",
              "      border-color: transparent;\n",
              "      border-right-color: var(--fill-color);\n",
              "    }\n",
              "    80% {\n",
              "      border-color: transparent;\n",
              "      border-right-color: var(--fill-color);\n",
              "      border-bottom-color: var(--fill-color);\n",
              "    }\n",
              "    90% {\n",
              "      border-color: transparent;\n",
              "      border-bottom-color: var(--fill-color);\n",
              "    }\n",
              "  }\n",
              "</style>\n",
              "\n",
              "  <script>\n",
              "    async function quickchart(key) {\n",
              "      const quickchartButtonEl =\n",
              "        document.querySelector('#' + key + ' button');\n",
              "      quickchartButtonEl.disabled = true;  // To prevent multiple clicks.\n",
              "      quickchartButtonEl.classList.add('colab-df-spinner');\n",
              "      try {\n",
              "        const charts = await google.colab.kernel.invokeFunction(\n",
              "            'suggestCharts', [key], {});\n",
              "      } catch (error) {\n",
              "        console.error('Error during call to suggestCharts:', error);\n",
              "      }\n",
              "      quickchartButtonEl.classList.remove('colab-df-spinner');\n",
              "      quickchartButtonEl.classList.add('colab-df-quickchart-complete');\n",
              "    }\n",
              "    (() => {\n",
              "      let quickchartButtonEl =\n",
              "        document.querySelector('#df-87030d27-d92c-4a9c-bbd2-4e1e4db6a4e4 button');\n",
              "      quickchartButtonEl.style.display =\n",
              "        google.colab.kernel.accessAllowed ? 'block' : 'none';\n",
              "    })();\n",
              "  </script>\n",
              "</div>\n",
              "    </div>\n",
              "  </div>\n"
            ]
          },
          "metadata": {},
          "execution_count": 7
        }
      ]
    },
    {
      "cell_type": "markdown",
      "source": [
        "One important step for us is to add some examples of these false behaviors identified earlier to the training data. A good practice is to gather a large amount of samples and add them to the data. For the sake of demonstration, we will only work with a few samples that address this specific problem of \"nice\"/ \"social interaction\"."
      ],
      "metadata": {
        "id": "Fb1rpKmIOj-j"
      }
    },
    {
      "cell_type": "code",
      "source": [
        "# Social interaction examples\n",
        "social_int = [\"You're welcome!\", \"I'm happy to help you\", \"Good morning everyone.\", \"It is great to see you all.\", \"Help is always appreciated\", \"I wish you all the best.\"]\n",
        "\n",
        "# Add these samples to the training data\n",
        "add_soc = pd.DataFrame({\"text\": social_int})\n",
        "# assign 0 (\"not social\") to all texts\n",
        "add_soc[\"soc\"] = 0\n",
        "# add to train\n",
        "train = pd.concat([train, add_soc])"
      ],
      "metadata": {
        "id": "IEBoJ2i5QAXR"
      },
      "execution_count": null,
      "outputs": []
    },
    {
      "cell_type": "markdown",
      "source": [
        "## Fine-tuning"
      ],
      "metadata": {
        "id": "AvUXuPShKsrw"
      }
    },
    {
      "cell_type": "markdown",
      "source": [
        "Now, we create a configuration for our hyperparameters for fine-tuning. Hyperparameters help us to configure \"how\" we want to train the model. To understand this fully, you might want to have another deep dive and google all the terms. I will give a short explanation next to the most important parameters used here. I would recommend using the same hyperparameters that I use in the [paper about ESG BERTs](https://www.sciencedirect.com/science/article/pii/S1544612324000096?via%3Dihub) in your final applications."
      ],
      "metadata": {
        "id": "Tov1urMRE30k"
      }
    },
    {
      "cell_type": "markdown",
      "source": [
        "In this tutorial, we want to finetune the \"SocialBERT-base\" model that was also used to train \"SocialBERT-social\". This time, we train it with the additional few sentences, we just added."
      ],
      "metadata": {
        "id": "p3NdZwcCTZ1a"
      }
    },
    {
      "cell_type": "code",
      "source": [
        "# costum Config\n",
        "class Config:\n",
        "  model = 'ESGBERT/SocialBERT-base' # the model we want to fine-tune\n",
        "  tokenizer = 'ESGBERT/SocialBERT-base' # the used tokenizer that transforms text to machine-readable bits\n",
        "  # define classification task\n",
        "  task = \"soc\" # take a look at the dataset (below): the column with the labels is called \"env\"\n",
        "  steps = 20 # after how many steps of training do I want the model to be evaluated\n",
        "  epochs = 5 # how often will the dataset run through the model\n",
        "  batch_size = 16 # how many single datapoint (i.e. sentences)\n",
        "  learning_rate = 5e-5 # how \"fast\" should the model learn the data\n",
        "\n",
        "  # not necessary to understand but google these concepts if you feel like it\n",
        "  gradient_accumulation = 2\n",
        "  warmup_ratio = 0.1\n",
        "  weight_decay = 0.1\n",
        "  patience = 3\n",
        "  device = 'cuda'"
      ],
      "metadata": {
        "id": "6CrYGCp8UcRT"
      },
      "execution_count": null,
      "outputs": []
    },
    {
      "cell_type": "markdown",
      "source": [
        "Ok, now from here on it gets very complicated if you do not yet have machine learning experience. I would recommend you to see the following function as a given for now. It basically takes the configuration details and the data and just executes the model training. In my eyes, you don't need to change this function anyway if you do your own fine-tuning."
      ],
      "metadata": {
        "id": "WNzxZW1DTuCN"
      }
    },
    {
      "cell_type": "code",
      "source": [
        "def finetuneModel(Config, train, val):\n",
        "  # Tokenizer\n",
        "  # preparing the inputs for a model\n",
        "  tokenizer = AutoTokenizer.from_pretrained(Config.tokenizer)\n",
        "  def tokenize(batch):\n",
        "      tokens = tokenizer(batch['text'], truncation=True, max_length=512)\n",
        "      tokens['labels'] = batch['labels']\n",
        "      return tokens\n",
        "\n",
        "  # Data Collator\n",
        "  # helps to form a batch of dataset objects\n",
        "  data_collator = DataCollatorWithPadding(tokenizer=tokenizer)\n",
        "\n",
        "  # Fill in training arguments from Config\n",
        "  training_args = TrainingArguments(\n",
        "      output_dir=\"./\",\n",
        "      overwrite_output_dir = False,\n",
        "      evaluation_strategy=\"steps\",\n",
        "      logging_strategy=\"steps\",\n",
        "      logging_steps=Config.steps,\n",
        "      eval_steps=Config.steps,\n",
        "      num_train_epochs=Config.epochs,\n",
        "      per_device_train_batch_size=Config.batch_size,\n",
        "      per_device_eval_batch_size=Config.batch_size,\n",
        "      learning_rate=Config.learning_rate,\n",
        "      weight_decay=Config.weight_decay,\n",
        "      gradient_accumulation_steps=Config.gradient_accumulation,\n",
        "      warmup_ratio=Config.warmup_ratio,\n",
        "      metric_for_best_model='eval_f1', # eval_f1\n",
        "      load_best_model_at_end=True,\n",
        "      )\n",
        "\n",
        "  # Evaluation metrics\n",
        "  # we want accuracy, f1, precision and recall as our metrics for evaluation\n",
        "  def compute_metrics(pred):\n",
        "      labels = pred.label_ids\n",
        "      preds = pred.predictions.argmax(-1)\n",
        "      precision, recall, f1, _ = precision_recall_fscore_support(labels, preds, average='macro')\n",
        "      acc = accuracy_score(labels, preds)\n",
        "      return {\n",
        "          'accuracy': acc,\n",
        "          'f1': f1,\n",
        "          'precision': precision,\n",
        "          'recall': recall\n",
        "      }\n",
        "\n",
        "  # model inititialisation\n",
        "  # we use the base model of Environmental-BERT\n",
        "  model = AutoModelForSequenceClassification.from_pretrained(Config.model, num_labels=2)\n",
        "\n",
        "  # HuggingFace Dataset structure\n",
        "  # create a datastructure that the HuggingFace model can read\n",
        "  train_dict = {'text': train[\"text\"], 'labels': train[Config.task]}\n",
        "  val_dict = {'text': val[\"text\"], 'labels': val[Config.task]}\n",
        "  train_dataset = datasets.Dataset.from_dict(train_dict)\n",
        "  val_dataset = datasets.Dataset.from_dict(val_dict)\n",
        "  # tokenize\n",
        "  train_dataset = train_dataset.map(tokenize, num_proc=1, batched=True, remove_columns=[\"text\"])\n",
        "  val_dataset = val_dataset.map(tokenize, num_proc=1, batched=True, remove_columns=[\"text\"])\n",
        "\n",
        "  # Trainer\n",
        "  # object that combines all prior steps\n",
        "  trainer = Trainer(\n",
        "      model,\n",
        "      training_args,\n",
        "      train_dataset=train_dataset,\n",
        "      eval_dataset=val_dataset,\n",
        "      data_collator=data_collator,\n",
        "      tokenizer=tokenizer,\n",
        "      compute_metrics=compute_metrics,\n",
        "      callbacks=[EarlyStoppingCallback(early_stopping_patience=Config.patience)]\n",
        "  )\n",
        "\n",
        "  # start the model training\n",
        "  trainer.train()\n",
        "\n",
        "  # return the final model\n",
        "  return model, tokenizer"
      ],
      "metadata": {
        "id": "hcDKnPQ2W8yJ"
      },
      "execution_count": null,
      "outputs": []
    },
    {
      "cell_type": "markdown",
      "source": [
        "Start the training by evoking the function."
      ],
      "metadata": {
        "id": "C9HzhzTUULpo"
      }
    },
    {
      "cell_type": "code",
      "source": [
        "model, tokenizer = finetuneModel(Config, train, val)"
      ],
      "metadata": {
        "colab": {
          "base_uri": "https://localhost:8080/",
          "height": 525,
          "referenced_widgets": [
            "a7e6a494aaa74f56a46cd02e23c8186e",
            "e7cdbe9e2bd341f9a41fe27fcb3552b1",
            "c7ada9c01a8d4832917572b24e47e7ac",
            "44a528c30c1c4876b410714605e75aff",
            "e7957d61325247bb93a48fd562b9b4de",
            "e47802ff67c04c00993d703721c0b061",
            "2099a3b4f7954806bd781f76f7328b97",
            "0bfde50da21743b480655dd8c0c2da43",
            "50185cd151f340e292136de08d8e202d",
            "d360a8a92bfa40029adf23cf99992afb",
            "3c3baeb68a9d4dd8b54e579dd6ea23f8",
            "1b3fa34c8b934b5cbf59c1208c1bf5dd",
            "75a03e7ceb5648d49c1b971002ef118b",
            "b25f22080bad403aaab86c50b06de817",
            "56fe657ed9ec4b15acfdbdfc70127dad",
            "1fbf392a03d241768700eb65f25e7784",
            "08c428be9c794edd84a56ae9ae31039c",
            "1b17b252ea5e4e35bdebbeb88d5339d9",
            "ac9b591dfc2d4b6c8466b6b27e2de65c",
            "65737a60a4d64f70a861b11a28e96ac4",
            "1700180126b7451892cc8a769380a2d7",
            "7dbcad7530e94fafac97d80b654ddb0d"
          ]
        },
        "id": "YENKJWe0ZZsO",
        "outputId": "fc18039d-f38e-4171-b80e-9e471701dbc5"
      },
      "execution_count": null,
      "outputs": [
        {
          "output_type": "stream",
          "name": "stderr",
          "text": [
            "Some weights of RobertaForSequenceClassification were not initialized from the model checkpoint at ESGBERT/SocialBERT-base and are newly initialized: ['classifier.out_proj.bias', 'classifier.dense.weight', 'classifier.out_proj.weight', 'classifier.dense.bias']\n",
            "You should probably TRAIN this model on a down-stream task to be able to use it for predictions and inference.\n"
          ]
        },
        {
          "output_type": "display_data",
          "data": {
            "text/plain": [
              "Map:   0%|          | 0/1286 [00:00<?, ? examples/s]"
            ],
            "application/vnd.jupyter.widget-view+json": {
              "version_major": 2,
              "version_minor": 0,
              "model_id": "a7e6a494aaa74f56a46cd02e23c8186e"
            }
          },
          "metadata": {}
        },
        {
          "output_type": "display_data",
          "data": {
            "text/plain": [
              "Map:   0%|          | 0/320 [00:00<?, ? examples/s]"
            ],
            "application/vnd.jupyter.widget-view+json": {
              "version_major": 2,
              "version_minor": 0,
              "model_id": "1b3fa34c8b934b5cbf59c1208c1bf5dd"
            }
          },
          "metadata": {}
        },
        {
          "output_type": "stream",
          "name": "stderr",
          "text": [
            "You're using a RobertaTokenizerFast tokenizer. Please note that with a fast tokenizer, using the `__call__` method is faster than using a method to encode the text followed by a call to the `pad` method to get a padded encoding.\n"
          ]
        },
        {
          "output_type": "display_data",
          "data": {
            "text/plain": [
              "<IPython.core.display.HTML object>"
            ],
            "text/html": [
              "\n",
              "    <div>\n",
              "      \n",
              "      <progress value='200' max='200' style='width:300px; height:20px; vertical-align: middle;'></progress>\n",
              "      [200/200 00:46, Epoch 4/5]\n",
              "    </div>\n",
              "    <table border=\"1\" class=\"dataframe\">\n",
              "  <thead>\n",
              " <tr style=\"text-align: left;\">\n",
              "      <th>Step</th>\n",
              "      <th>Training Loss</th>\n",
              "      <th>Validation Loss</th>\n",
              "      <th>Accuracy</th>\n",
              "      <th>F1</th>\n",
              "      <th>Precision</th>\n",
              "      <th>Recall</th>\n",
              "    </tr>\n",
              "  </thead>\n",
              "  <tbody>\n",
              "    <tr>\n",
              "      <td>20</td>\n",
              "      <td>0.647700</td>\n",
              "      <td>0.527200</td>\n",
              "      <td>0.600000</td>\n",
              "      <td>0.382202</td>\n",
              "      <td>0.799373</td>\n",
              "      <td>0.503876</td>\n",
              "    </tr>\n",
              "    <tr>\n",
              "      <td>40</td>\n",
              "      <td>0.390500</td>\n",
              "      <td>0.258104</td>\n",
              "      <td>0.881250</td>\n",
              "      <td>0.879728</td>\n",
              "      <td>0.878592</td>\n",
              "      <td>0.892975</td>\n",
              "    </tr>\n",
              "    <tr>\n",
              "      <td>60</td>\n",
              "      <td>0.192800</td>\n",
              "      <td>0.330279</td>\n",
              "      <td>0.875000</td>\n",
              "      <td>0.873892</td>\n",
              "      <td>0.875620</td>\n",
              "      <td>0.890255</td>\n",
              "    </tr>\n",
              "    <tr>\n",
              "      <td>80</td>\n",
              "      <td>0.205100</td>\n",
              "      <td>0.226013</td>\n",
              "      <td>0.906250</td>\n",
              "      <td>0.904909</td>\n",
              "      <td>0.902783</td>\n",
              "      <td>0.917691</td>\n",
              "    </tr>\n",
              "    <tr>\n",
              "      <td>100</td>\n",
              "      <td>0.105900</td>\n",
              "      <td>0.187273</td>\n",
              "      <td>0.940625</td>\n",
              "      <td>0.938818</td>\n",
              "      <td>0.935902</td>\n",
              "      <td>0.942713</td>\n",
              "    </tr>\n",
              "    <tr>\n",
              "      <td>120</td>\n",
              "      <td>0.090700</td>\n",
              "      <td>0.218818</td>\n",
              "      <td>0.928125</td>\n",
              "      <td>0.925596</td>\n",
              "      <td>0.924162</td>\n",
              "      <td>0.927209</td>\n",
              "    </tr>\n",
              "    <tr>\n",
              "      <td>140</td>\n",
              "      <td>0.044400</td>\n",
              "      <td>0.345818</td>\n",
              "      <td>0.896875</td>\n",
              "      <td>0.895626</td>\n",
              "      <td>0.894700</td>\n",
              "      <td>0.909838</td>\n",
              "    </tr>\n",
              "    <tr>\n",
              "      <td>160</td>\n",
              "      <td>0.075500</td>\n",
              "      <td>0.254281</td>\n",
              "      <td>0.925000</td>\n",
              "      <td>0.923417</td>\n",
              "      <td>0.919606</td>\n",
              "      <td>0.932140</td>\n",
              "    </tr>\n",
              "    <tr>\n",
              "      <td>180</td>\n",
              "      <td>0.031200</td>\n",
              "      <td>0.284527</td>\n",
              "      <td>0.915625</td>\n",
              "      <td>0.914073</td>\n",
              "      <td>0.910669</td>\n",
              "      <td>0.924287</td>\n",
              "    </tr>\n",
              "    <tr>\n",
              "      <td>200</td>\n",
              "      <td>0.011200</td>\n",
              "      <td>0.287635</td>\n",
              "      <td>0.912500</td>\n",
              "      <td>0.910966</td>\n",
              "      <td>0.907767</td>\n",
              "      <td>0.921669</td>\n",
              "    </tr>\n",
              "  </tbody>\n",
              "</table><p>"
            ]
          },
          "metadata": {}
        }
      ]
    },
    {
      "cell_type": "markdown",
      "source": [
        "# Evaluate fine-tuned model"
      ],
      "metadata": {
        "id": "hBXdG4BgKw05"
      }
    },
    {
      "cell_type": "markdown",
      "source": [
        "Now, let's see if the adjustment worked by loading the trained model into a classification pipeline."
      ],
      "metadata": {
        "id": "4UG9jTicUval"
      }
    },
    {
      "cell_type": "code",
      "source": [
        "# Load the model\n",
        "new_social_pipe = pipeline('sentiment-analysis', model=model, tokenizer=tokenizer, device=0)"
      ],
      "metadata": {
        "id": "oe4fed2jU3LN"
      },
      "execution_count": null,
      "outputs": []
    },
    {
      "cell_type": "code",
      "source": [
        "new_social_pipe(\"Have a great day.\")"
      ],
      "metadata": {
        "colab": {
          "base_uri": "https://localhost:8080/"
        },
        "id": "okK30EtUU61_",
        "outputId": "7c9cada8-84fc-4024-8e84-cfb63bb45718"
      },
      "execution_count": null,
      "outputs": [
        {
          "output_type": "execute_result",
          "data": {
            "text/plain": [
              "[{'label': 'LABEL_0', 'score': 0.9949280023574829}]"
            ]
          },
          "metadata": {},
          "execution_count": 13
        }
      ]
    },
    {
      "cell_type": "markdown",
      "source": [
        "By only adding a few examples to the training data, we adjusted the model behavior to detect that this example of \"nice social interaction\" is not really within the scope of the real \"social\" label. Of course, this only represents an example."
      ],
      "metadata": {
        "id": "-DqR0jh4W01i"
      }
    },
    {
      "cell_type": "markdown",
      "source": [
        "For the sake of completeness, I also add code on how to evaluate the model generally on the testing data. It is always important to still check the performance on the original test set when adjusting the training data."
      ],
      "metadata": {
        "id": "AiJeoVYfURo2"
      }
    },
    {
      "cell_type": "code",
      "source": [
        "# Get text and labels as array\n",
        "text = test[\"text\"].to_numpy().astype(str)\n",
        "labels = test[Config.task].to_numpy()\n",
        "\n",
        "# Helper for the transformation of the output\n",
        "# this model currently outputs LABEL_1 for \"social\" and LABEL_0 for \"none\"\n",
        "# LABEL_1 for social\n",
        "def label_to_num(inp):\n",
        "    if inp == 'LABEL_0':\n",
        "        return 0\n",
        "    elif inp == 'LABEL_1':\n",
        "        return 1\n",
        "\n",
        "# Helper for the use of the transformer\n",
        "def useTransformer(arr, classifier):\n",
        "  arr_2 = classifier([x for x in arr])\n",
        "  res = [label_to_num(x['label']) for x in arr_2]\n",
        "  return res\n",
        "\n",
        "# Helper to show output\n",
        "def evaluate(labels, pred, name):\n",
        "  print(\"Evaluation of \" + name)\n",
        "  print(classification_report(labels, pred))\n",
        "  confMat = confusion_matrix(labels, pred)\n",
        "  disp = ConfusionMatrixDisplay(confusion_matrix=confMat, display_labels=[\"no\", \"yes\"])\n",
        "  disp.plot()\n",
        "  plt.show()\n",
        "\n",
        "# Predict\n",
        "pred = useTransformer(text, new_social_pipe)"
      ],
      "metadata": {
        "id": "xwrEsZMdZusV"
      },
      "execution_count": null,
      "outputs": []
    },
    {
      "cell_type": "code",
      "source": [
        "# Output\n",
        "print(Config.task)\n",
        "evaluate(labels, pred, Config.model)"
      ],
      "metadata": {
        "colab": {
          "base_uri": "https://localhost:8080/",
          "height": 640
        },
        "id": "AoBL0SidaF6P",
        "outputId": "91e7e5af-46ef-41db-f946-581cc4c35869"
      },
      "execution_count": null,
      "outputs": [
        {
          "output_type": "stream",
          "name": "stdout",
          "text": [
            "soc\n",
            "Evaluation of ESGBERT/SocialBERT-base\n",
            "              precision    recall  f1-score   support\n",
            "\n",
            "           0       0.99      0.92      0.95       239\n",
            "           1       0.89      0.98      0.93       161\n",
            "\n",
            "    accuracy                           0.94       400\n",
            "   macro avg       0.94      0.95      0.94       400\n",
            "weighted avg       0.95      0.94      0.95       400\n",
            "\n"
          ]
        },
        {
          "output_type": "display_data",
          "data": {
            "text/plain": [
              "<Figure size 640x480 with 2 Axes>"
            ],
            "image/png": "[encoded data removed]"
          },
          "metadata": {}
        }
      ]
    },
    {
      "cell_type": "markdown",
      "source": [
        "The results on the original test dataset are still extremely good."
      ],
      "metadata": {
        "id": "96HDwawoYD3o"
      }
    },
    {
      "cell_type": "markdown",
      "source": [
        "This is it for today. I think it's quite a lot to digest. I wanted to cover a variety of aspects in this one tutorial. So take your time to go through the individual steps. Also, feel free to read the [paper on the ESG BERTs](https://papers.ssrn.com/sol3/papers.cfm?abstract_id=4622514) or follow [me on LinkedIn](https://www.linkedin.com/in/tobias-schimanski-964077182/) to not miss out on new developments."
      ],
      "metadata": {
        "id": "IEy-z_8MYS4B"
      }
    }
  ]
}